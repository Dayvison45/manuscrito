{
  "nbformat": 4,
  "nbformat_minor": 0,
  "metadata": {
    "colab": {
      "provenance": [],
      "authorship_tag": "ABX9TyOHksQXTzhulQ2TdsbCsk6z",
      "include_colab_link": true
    },
    "kernelspec": {
      "name": "python3",
      "display_name": "Python 3"
    },
    "language_info": {
      "name": "python"
    }
  },
  "cells": [
    {
      "cell_type": "markdown",
      "metadata": {
        "id": "view-in-github",
        "colab_type": "text"
      },
      "source": [
        "<a href=\"https://colab.research.google.com/github/DayvisonPaz/manuscrito/blob/main/cousera.ipynb\" target=\"_parent\"><img src=\"https://colab.research.google.com/assets/colab-badge.svg\" alt=\"Open In Colab\"/></a>"
      ]
    },
    {
      "cell_type": "markdown",
      "source": [
        "# Meu Projeto de Ciencia de Dados"
      ],
      "metadata": {
        "id": "C1CACw08jdQh"
      }
    },
    {
      "cell_type": "markdown",
      "source": [
        "#### Aqui vamos ter uma breve introdução basica a ferramentas e linguagens para ciencia de dados"
      ],
      "metadata": {
        "id": "wD-BcrvFjvTl"
      }
    },
    {
      "cell_type": "markdown",
      "source": [
        "Linguagens para Ciencia de Dados\n",
        "\n",
        "\n",
        "*   Python\n",
        "*   R\n",
        "\n"
      ],
      "metadata": {
        "id": "yYAzOgsxkEN7"
      }
    },
    {
      "cell_type": "markdown",
      "source": [
        "### bibliotecas para Ciencia de dados\n",
        "\n",
        "Python\n",
        "*   pandas\n",
        "*   numpy\n",
        "*   seaborn\n",
        "*   scykit-learn\n",
        "*   keras\n",
        "R\n",
        "\n",
        "  \n",
        "*   ggplot2\n",
        "*   dplyr\n",
        "*   tensorflow\n",
        "\n",
        "\n",
        "\n",
        "\n",
        "\n",
        "\n"
      ],
      "metadata": {
        "id": "9kFrxhl6kOqi"
      }
    },
    {
      "cell_type": "markdown",
      "source": [
        "\n",
        "\n",
        "| Category | Tool\n",
        "|---|---|\n",
        "| Data Loading & Cleaning | Pandas\n",
        "| Data Loading & Cleaning | NumPy\n",
        "| Data Exploration & Visualization | Matplotlib\n",
        "| Data Exploration & Visualization | Seaborn\n",
        "| Machine Learning | scikit-learn\n",
        "| Deep Learning | TensorFlow\n",
        "| Deep Learning | PyTorch\n",
        "| Data Wrangling | Scrapy\n",
        "| Data Wrangling | Beautiful Soup | Library for parsing HTML and XML documents.\n",
        "| Version Control | Git\n",
        "| Data Analysis Notebooks | Jupyter Notebook"
      ],
      "metadata": {
        "id": "-hndbnn3p1-2"
      }
    },
    {
      "cell_type": "markdown",
      "source": [
        "| Operação | Símbolo | Exemplo | Descrição |\n",
        "|---|---|---|---|\n",
        "| Adição | + | 2 + 3 = 5 | Soma de dois números. |\n",
        "| Subtração | - | 5 - 2 = 3 | Diferença de dois números. |\n",
        "| Multiplicação | * | 2 * 3 = 6 | Multiplica dois números. |\n",
        "| Divisão | / | 6 / 2 = 3 | Divide um número por outro. |\n",
        "| Módulo | % | 5 % 2 = 1 | Resto da divisão de um número por outro. |\n",
        "| Potência | ^ | 2^3 = 8 | Eleva um número a uma potência. |\n"
      ],
      "metadata": {
        "id": "KnMqhnIJp7KU"
      }
    },
    {
      "cell_type": "code",
      "source": [
        "#Multiplicando\n",
        "num1 = int(input(\"insira um número: \"))\n",
        "num2 = int(input(\"insira outro número: \"))\n",
        "resultado = num1 * num2\n",
        "print(resultado)\n",
        "\n"
      ],
      "metadata": {
        "id": "s-1IsmAjqbrM"
      },
      "execution_count": null,
      "outputs": []
    },
    {
      "cell_type": "code",
      "source": [
        "#Somando\n",
        "num1 = int(input(\"insira um número: \"))\n",
        "num2 = int(input(\"insira outro número: \"))\n",
        "resultado = num1 + num2\n",
        "print(resultado)"
      ],
      "metadata": {
        "id": "r-mVKKvDqOc2"
      },
      "execution_count": null,
      "outputs": []
    },
    {
      "cell_type": "code",
      "source": [
        "num1 = int(input(\"insira os minutos:\"))\n",
        "\n",
        "result= num1/60\n",
        "print(result)"
      ],
      "metadata": {
        "colab": {
          "base_uri": "https://localhost:8080/"
        },
        "id": "0xzS5qh1qpYt",
        "outputId": "7fe8b157-c366-4f47-9a7a-05637b04ce4d"
      },
      "execution_count": null,
      "outputs": [
        {
          "output_type": "stream",
          "name": "stdout",
          "text": [
            "insira os minutos:500\n",
            "8.333333333333334\n"
          ]
        }
      ]
    },
    {
      "cell_type": "code",
      "source": [
        "#Liste Objetivos\n",
        "lista = []\n",
        "\n",
        "def perguntar():\n",
        "  item= input(\"insira o item da lista \")\n",
        "  perg = input(\"deseja acrescentar mais? \")\n",
        "  lista.append(item)\n",
        "  if perg == \"sim\":\n",
        "    lista.append(item)\n",
        "    perguntar()\n",
        "  else:\n",
        "    for i in lista:\n",
        "      print(\"-\"+i)\n",
        "\n",
        "perguntar()\n",
        "\n"
      ],
      "metadata": {
        "colab": {
          "base_uri": "https://localhost:8080/"
        },
        "id": "6AIToARxrmMo",
        "outputId": "9b8be9ef-bf09-4342-a174-0b92c738119a"
      },
      "execution_count": null,
      "outputs": [
        {
          "output_type": "stream",
          "name": "stdout",
          "text": [
            "insira o item da lista cafe\n",
            "deseja acrescentar mais? arroz\n",
            "-cafe\n"
          ]
        }
      ]
    },
    {
      "cell_type": "markdown",
      "source": [
        "# Author Dayvison da Paz"
      ],
      "metadata": {
        "id": "cQBcQDLTt49A"
      }
    }
  ]
}